{
 "cells": [
  {
   "cell_type": "markdown",
   "id": "8b6ab657",
   "metadata": {},
   "source": [
    "# Variable selection for ESR1, ERBB2, CDK1, CDK4"
   ]
  },
  {
   "cell_type": "markdown",
   "id": "ccb99469",
   "metadata": {},
   "source": [
    "We use XGBoost to predict the expression of a gene based on the expression of the other genes in the cell."
   ]
  },
  {
   "cell_type": "code",
   "execution_count": 1,
   "id": "1cb48d10",
   "metadata": {},
   "outputs": [],
   "source": [
    "import pandas as pd\n",
    "import matplotlib.pyplot as plt\n",
    "import seaborn as sns\n",
    "import numpy as np\n",
    "import pickle\n",
    "import src.modules as modules\n",
    "import src.data_handling as dh"
   ]
  },
  {
   "cell_type": "code",
   "execution_count": 2,
   "id": "a46492c6",
   "metadata": {},
   "outputs": [],
   "source": [
    "%load_ext autoreload\n",
    "%autoreload 2"
   ]
  },
  {
   "cell_type": "code",
   "execution_count": 3,
   "id": "16fbd8cf",
   "metadata": {},
   "outputs": [],
   "source": [
    "df = pd.read_pickle(\"/data/severs/reduced_data_sets/Cancer.pkl\")"
   ]
  },
  {
   "cell_type": "code",
   "execution_count": 4,
   "id": "c3090dc2",
   "metadata": {},
   "outputs": [],
   "source": [
    "from ITMO_FS.filters import gini_index , select_k_best, UnivariateFilter"
   ]
  },
  {
   "cell_type": "code",
   "execution_count": 6,
   "id": "149cbd2f",
   "metadata": {},
   "outputs": [],
   "source": [
    "X = df.drop(\"ESR1\", axis=1)"
   ]
  },
  {
   "cell_type": "code",
   "execution_count": 7,
   "id": "8de13c5f",
   "metadata": {},
   "outputs": [],
   "source": [
    "Y = df.ESR1"
   ]
  },
  {
   "cell_type": "code",
   "execution_count": 14,
   "id": "5cd8a8e4",
   "metadata": {},
   "outputs": [],
   "source": [
    "from ITMO_FS.filters.univariate import gini_index"
   ]
  },
  {
   "cell_type": "code",
   "execution_count": 35,
   "id": "b6bf957f",
   "metadata": {},
   "outputs": [],
   "source": [
    "X = X.fillna(X.median())"
   ]
  },
  {
   "cell_type": "code",
   "execution_count": 36,
   "id": "6e0925e3",
   "metadata": {},
   "outputs": [],
   "source": [
    "scores = gini_index(X.values, Y.values)"
   ]
  },
  {
   "cell_type": "code",
   "execution_count": 37,
   "id": "857564f6",
   "metadata": {},
   "outputs": [
    {
     "data": {
      "text/plain": [
       "0.6714465632455504"
      ]
     },
     "execution_count": 37,
     "metadata": {},
     "output_type": "execute_result"
    }
   ],
   "source": [
    "scores.min()"
   ]
  },
  {
   "cell_type": "code",
   "execution_count": 38,
   "id": "b50ab43f",
   "metadata": {},
   "outputs": [
    {
     "data": {
      "text/plain": [
       "0.7427758809231494"
      ]
     },
     "execution_count": 38,
     "metadata": {},
     "output_type": "execute_result"
    }
   ],
   "source": [
    "scores.max()"
   ]
  },
  {
   "cell_type": "code",
   "execution_count": 12,
   "id": "01c8f6d9",
   "metadata": {},
   "outputs": [
    {
     "ename": "IndexError",
     "evalue": "only integers, slices (`:`), ellipsis (`...`), numpy.newaxis (`None`) and integer or boolean arrays are valid indices",
     "output_type": "error",
     "traceback": [
      "\u001b[0;31m---------------------------------------------------------------------------\u001b[0m",
      "\u001b[0;31mIndexError\u001b[0m                                Traceback (most recent call last)",
      "\u001b[0;32m<ipython-input-12-2fe92b4871f0>\u001b[0m in \u001b[0;36m<module>\u001b[0;34m\u001b[0m\n\u001b[1;32m      1\u001b[0m \u001b[0mselector\u001b[0m \u001b[0;34m=\u001b[0m \u001b[0mUnivariateFilter\u001b[0m\u001b[0;34m(\u001b[0m\u001b[0mgini_index\u001b[0m\u001b[0;34m,\u001b[0m \u001b[0mselect_k_best\u001b[0m\u001b[0;34m)\u001b[0m\u001b[0;34m\u001b[0m\u001b[0;34m\u001b[0m\u001b[0m\n\u001b[0;32m----> 2\u001b[0;31m \u001b[0mtrX\u001b[0m \u001b[0;34m=\u001b[0m \u001b[0mselector\u001b[0m\u001b[0;34m.\u001b[0m\u001b[0mfit_transform\u001b[0m\u001b[0;34m(\u001b[0m\u001b[0mX\u001b[0m\u001b[0;34m.\u001b[0m\u001b[0mvalues\u001b[0m\u001b[0;34m,\u001b[0m \u001b[0mY\u001b[0m\u001b[0;34m.\u001b[0m\u001b[0mvalues\u001b[0m\u001b[0;34m)\u001b[0m\u001b[0;34m\u001b[0m\u001b[0;34m\u001b[0m\u001b[0m\n\u001b[0m",
      "\u001b[0;32m/data/severs/miniconda3/envs/ml-severs/lib/python3.9/site-packages/ITMO_FS/filters/univariate/UnivariateFilter.py\u001b[0m in \u001b[0;36mfit_transform\u001b[0;34m(self, X, y, feature_names, store_scores, **fit_params)\u001b[0m\n\u001b[1;32m    112\u001b[0m         \"\"\"\n\u001b[1;32m    113\u001b[0m         \u001b[0mself\u001b[0m\u001b[0;34m.\u001b[0m\u001b[0mfit\u001b[0m\u001b[0;34m(\u001b[0m\u001b[0mX\u001b[0m\u001b[0;34m,\u001b[0m \u001b[0my\u001b[0m\u001b[0;34m,\u001b[0m \u001b[0mfeature_names\u001b[0m\u001b[0;34m,\u001b[0m \u001b[0mstore_scores\u001b[0m\u001b[0;34m)\u001b[0m\u001b[0;34m\u001b[0m\u001b[0;34m\u001b[0m\u001b[0m\n\u001b[0;32m--> 114\u001b[0;31m         \u001b[0;32mreturn\u001b[0m \u001b[0mself\u001b[0m\u001b[0;34m.\u001b[0m\u001b[0mtransform\u001b[0m\u001b[0;34m(\u001b[0m\u001b[0mX\u001b[0m\u001b[0;34m)\u001b[0m\u001b[0;34m\u001b[0m\u001b[0;34m\u001b[0m\u001b[0m\n\u001b[0m\u001b[1;32m    115\u001b[0m \u001b[0;34m\u001b[0m\u001b[0m\n\u001b[1;32m    116\u001b[0m     \u001b[0;32mdef\u001b[0m \u001b[0mfit\u001b[0m\u001b[0;34m(\u001b[0m\u001b[0mself\u001b[0m\u001b[0;34m,\u001b[0m \u001b[0mX\u001b[0m\u001b[0;34m,\u001b[0m \u001b[0my\u001b[0m\u001b[0;34m,\u001b[0m \u001b[0mfeature_names\u001b[0m\u001b[0;34m=\u001b[0m\u001b[0;32mNone\u001b[0m\u001b[0;34m,\u001b[0m \u001b[0mstore_scores\u001b[0m\u001b[0;34m=\u001b[0m\u001b[0;32mTrue\u001b[0m\u001b[0;34m)\u001b[0m\u001b[0;34m:\u001b[0m\u001b[0;34m\u001b[0m\u001b[0;34m\u001b[0m\u001b[0m\n",
      "\u001b[0;32m/data/severs/miniconda3/envs/ml-severs/lib/python3.9/site-packages/ITMO_FS/filters/univariate/UnivariateFilter.py\u001b[0m in \u001b[0;36mtransform\u001b[0;34m(self, X)\u001b[0m\n\u001b[1;32m    157\u001b[0m         \"\"\"\n\u001b[1;32m    158\u001b[0m         \u001b[0;32mif\u001b[0m \u001b[0mtype\u001b[0m\u001b[0;34m(\u001b[0m\u001b[0mX\u001b[0m\u001b[0;34m)\u001b[0m \u001b[0;32mis\u001b[0m \u001b[0mndarray\u001b[0m\u001b[0;34m:\u001b[0m\u001b[0;34m\u001b[0m\u001b[0;34m\u001b[0m\u001b[0m\n\u001b[0;32m--> 159\u001b[0;31m             \u001b[0;32mreturn\u001b[0m \u001b[0mX\u001b[0m\u001b[0;34m[\u001b[0m\u001b[0;34m:\u001b[0m\u001b[0;34m,\u001b[0m \u001b[0mself\u001b[0m\u001b[0;34m.\u001b[0m\u001b[0mselected_features\u001b[0m\u001b[0;34m]\u001b[0m\u001b[0;34m\u001b[0m\u001b[0;34m\u001b[0m\u001b[0m\n\u001b[0m\u001b[1;32m    160\u001b[0m         \u001b[0;32melse\u001b[0m\u001b[0;34m:\u001b[0m\u001b[0;34m\u001b[0m\u001b[0;34m\u001b[0m\u001b[0m\n\u001b[1;32m    161\u001b[0m             \u001b[0;32mreturn\u001b[0m \u001b[0mX\u001b[0m\u001b[0;34m[\u001b[0m\u001b[0mself\u001b[0m\u001b[0;34m.\u001b[0m\u001b[0mselected_features\u001b[0m\u001b[0;34m]\u001b[0m\u001b[0;34m\u001b[0m\u001b[0;34m\u001b[0m\u001b[0m\n",
      "\u001b[0;31mIndexError\u001b[0m: only integers, slices (`:`), ellipsis (`...`), numpy.newaxis (`None`) and integer or boolean arrays are valid indices"
     ]
    }
   ],
   "source": [
    "selector = UnivariateFilter(gini_index, select_k_best)\n",
    "trX = selector.fit_transform(X.values, Y.values)"
   ]
  },
  {
   "cell_type": "code",
   "execution_count": null,
   "id": "441c33ba",
   "metadata": {},
   "outputs": [],
   "source": []
  },
  {
   "cell_type": "code",
   "execution_count": 123,
   "id": "02679055",
   "metadata": {},
   "outputs": [
    {
     "name": "stdout",
     "output_type": "stream",
     "text": [
      "Counting NaNs:\n"
     ]
    },
    {
     "data": {
      "application/vnd.jupyter.widget-view+json": {
       "model_id": "355c25fe80d647c7a8a3b22704476e80",
       "version_major": 2,
       "version_minor": 0
      },
      "text/plain": [
       "  0%|          | 0/28634 [00:00<?, ?it/s]"
      ]
     },
     "metadata": {},
     "output_type": "display_data"
    },
    {
     "name": "stdout",
     "output_type": "stream",
     "text": [
      "Computing correlation and p-value:\n"
     ]
    },
    {
     "data": {
      "application/vnd.jupyter.widget-view+json": {
       "model_id": "a0d3990ec13f4a1a870d0407f1e58a2b",
       "version_major": 2,
       "version_minor": 0
      },
      "text/plain": [
       "  0%|          | 0/28634 [00:00<?, ?it/s]"
      ]
     },
     "metadata": {},
     "output_type": "display_data"
    }
   ],
   "source": [
    "df_corr_ESR1, kept_genes = dh.compute_p_value(df, \"CDK4\", verbose=1)"
   ]
  },
  {
   "cell_type": "code",
   "execution_count": 154,
   "id": "085c1c87",
   "metadata": {},
   "outputs": [],
   "source": [
    "df_corr_CDK1 = dh.remove_high_nan(df_corr_ESR1)"
   ]
  },
  {
   "cell_type": "code",
   "execution_count": 169,
   "id": "6f34984a",
   "metadata": {},
   "outputs": [
    {
     "name": "stdout",
     "output_type": "stream",
     "text": [
      "Selected 1008 input genes with alpha = 0.005\n"
     ]
    }
   ],
   "source": [
    "selected_CDK1 = dh.select_by_alpha(df_corr_CDK1)"
   ]
  },
  {
   "cell_type": "code",
   "execution_count": 168,
   "id": "4dcd7740",
   "metadata": {},
   "outputs": [
    {
     "data": {
      "text/plain": [
       "(1008, 3)"
      ]
     },
     "execution_count": 168,
     "metadata": {},
     "output_type": "execute_result"
    }
   ],
   "source": [
    "selected_CDK1.shape"
   ]
  },
  {
   "cell_type": "code",
   "execution_count": 163,
   "id": "d0246433",
   "metadata": {},
   "outputs": [],
   "source": [
    "alpha = 0.004943561262168797\n",
    "import re\n",
    "s = str(alpha)\n",
    "zeros = len(re.search('\\d+\\.(0*)', s).group(1))"
   ]
  },
  {
   "cell_type": "code",
   "execution_count": 166,
   "id": "8731fe83",
   "metadata": {},
   "outputs": [
    {
     "data": {
      "text/plain": [
       "0.005"
      ]
     },
     "execution_count": 166,
     "metadata": {},
     "output_type": "execute_result"
    }
   ],
   "source": [
    "round(alpha, zeros+1)"
   ]
  },
  {
   "cell_type": "code",
   "execution_count": 160,
   "id": "f0d59127",
   "metadata": {},
   "outputs": [
    {
     "data": {
      "text/html": [
       "<div>\n",
       "<style scoped>\n",
       "    .dataframe tbody tr th:only-of-type {\n",
       "        vertical-align: middle;\n",
       "    }\n",
       "\n",
       "    .dataframe tbody tr th {\n",
       "        vertical-align: top;\n",
       "    }\n",
       "\n",
       "    .dataframe thead th {\n",
       "        text-align: right;\n",
       "    }\n",
       "</style>\n",
       "<table border=\"1\" class=\"dataframe\">\n",
       "  <thead>\n",
       "    <tr style=\"text-align: right;\">\n",
       "      <th></th>\n",
       "      <th>correlation</th>\n",
       "      <th>p-value</th>\n",
       "      <th>n_non_NaNs</th>\n",
       "    </tr>\n",
       "    <tr>\n",
       "      <th>Genes</th>\n",
       "      <th></th>\n",
       "      <th></th>\n",
       "      <th></th>\n",
       "    </tr>\n",
       "  </thead>\n",
       "  <tbody>\n",
       "    <tr>\n",
       "      <th>AURKAIP1</th>\n",
       "      <td>0.043847</td>\n",
       "      <td>7.085884e-05</td>\n",
       "      <td>12950.0</td>\n",
       "    </tr>\n",
       "    <tr>\n",
       "      <th>CCNL2</th>\n",
       "      <td>-0.045111</td>\n",
       "      <td>3.693584e-05</td>\n",
       "      <td>12950.0</td>\n",
       "    </tr>\n",
       "    <tr>\n",
       "      <th>MRPL20</th>\n",
       "      <td>0.042441</td>\n",
       "      <td>1.459431e-04</td>\n",
       "      <td>12950.0</td>\n",
       "    </tr>\n",
       "    <tr>\n",
       "      <th>CDK11A</th>\n",
       "      <td>-0.039669</td>\n",
       "      <td>5.321351e-04</td>\n",
       "      <td>12950.0</td>\n",
       "    </tr>\n",
       "    <tr>\n",
       "      <th>RPL22</th>\n",
       "      <td>0.067016</td>\n",
       "      <td>1.736631e-11</td>\n",
       "      <td>12950.0</td>\n",
       "    </tr>\n",
       "    <tr>\n",
       "      <th>...</th>\n",
       "      <td>...</td>\n",
       "      <td>...</td>\n",
       "      <td>...</td>\n",
       "    </tr>\n",
       "    <tr>\n",
       "      <th>MT-ND4L</th>\n",
       "      <td>-0.050223</td>\n",
       "      <td>2.012679e-06</td>\n",
       "      <td>12950.0</td>\n",
       "    </tr>\n",
       "    <tr>\n",
       "      <th>MT-ND4</th>\n",
       "      <td>-0.050471</td>\n",
       "      <td>1.732614e-06</td>\n",
       "      <td>12950.0</td>\n",
       "    </tr>\n",
       "    <tr>\n",
       "      <th>MT-ND5</th>\n",
       "      <td>-0.044370</td>\n",
       "      <td>5.454620e-05</td>\n",
       "      <td>12950.0</td>\n",
       "    </tr>\n",
       "    <tr>\n",
       "      <th>MT-CYB</th>\n",
       "      <td>-0.052536</td>\n",
       "      <td>4.957018e-07</td>\n",
       "      <td>12950.0</td>\n",
       "    </tr>\n",
       "    <tr>\n",
       "      <th>AC004556.1</th>\n",
       "      <td>0.040897</td>\n",
       "      <td>8.797414e-04</td>\n",
       "      <td>11500.0</td>\n",
       "    </tr>\n",
       "  </tbody>\n",
       "</table>\n",
       "<p>1000 rows × 3 columns</p>\n",
       "</div>"
      ],
      "text/plain": [
       "            correlation       p-value  n_non_NaNs\n",
       "Genes                                            \n",
       "AURKAIP1       0.043847  7.085884e-05     12950.0\n",
       "CCNL2         -0.045111  3.693584e-05     12950.0\n",
       "MRPL20         0.042441  1.459431e-04     12950.0\n",
       "CDK11A        -0.039669  5.321351e-04     12950.0\n",
       "RPL22          0.067016  1.736631e-11     12950.0\n",
       "...                 ...           ...         ...\n",
       "MT-ND4L       -0.050223  2.012679e-06     12950.0\n",
       "MT-ND4        -0.050471  1.732614e-06     12950.0\n",
       "MT-ND5        -0.044370  5.454620e-05     12950.0\n",
       "MT-CYB        -0.052536  4.957018e-07     12950.0\n",
       "AC004556.1     0.040897  8.797414e-04     11500.0\n",
       "\n",
       "[1000 rows x 3 columns]"
      ]
     },
     "execution_count": 160,
     "metadata": {},
     "output_type": "execute_result"
    }
   ],
   "source": [
    "selected_CDK1"
   ]
  },
  {
   "cell_type": "code",
   "execution_count": 136,
   "id": "25abb234",
   "metadata": {},
   "outputs": [],
   "source": [
    "alphas = np.logspace(-20,-2,1000)\n",
    "n_selected_variables = []\n",
    "for p in alphas:\n",
    "    n_selected_variables.append(np.where(df_corr_ESR1[\"p-value\"]<p)[0].shape[0])\n",
    "n_selected_variables = np.array(n_selected_variables)"
   ]
  },
  {
   "cell_type": "code",
   "execution_count": 172,
   "id": "4e8abac4",
   "metadata": {},
   "outputs": [
    {
     "name": "stdout",
     "output_type": "stream",
     "text": [
      "1 a\n",
      "2 b\n",
      "3 c\n",
      "4 d\n"
     ]
    }
   ],
   "source": [
    "a = [1,2,3,4]\n",
    "b = [\"a\", \"b\", \"c\", \"d\"]\n",
    "for c, d in zip(a,b):\n",
    "    print(c, d)"
   ]
  },
  {
   "cell_type": "code",
   "execution_count": 125,
   "id": "3317973a",
   "metadata": {},
   "outputs": [
    {
     "data": {
      "text/plain": [
       "999"
      ]
     },
     "execution_count": 125,
     "metadata": {},
     "output_type": "execute_result"
    }
   ],
   "source": [
    "np.where(n_selected_variables<2000)[0][-1]"
   ]
  },
  {
   "cell_type": "code",
   "execution_count": 126,
   "id": "ed1c65e5",
   "metadata": {},
   "outputs": [
    {
     "data": {
      "text/plain": [
       "41"
      ]
     },
     "execution_count": 126,
     "metadata": {},
     "output_type": "execute_result"
    }
   ],
   "source": [
    "n_selected_variables[365]"
   ]
  },
  {
   "cell_type": "code",
   "execution_count": 127,
   "id": "32379399",
   "metadata": {},
   "outputs": [
    {
     "data": {
      "text/plain": [
       "4e-14"
      ]
     },
     "execution_count": 127,
     "metadata": {},
     "output_type": "execute_result"
    }
   ],
   "source": [
    "alphas[365].round(14)"
   ]
  },
  {
   "cell_type": "code",
   "execution_count": 128,
   "id": "84dcb851",
   "metadata": {},
   "outputs": [
    {
     "data": {
      "text/plain": [
       "'4e-14'"
      ]
     },
     "execution_count": 128,
     "metadata": {},
     "output_type": "execute_result"
    }
   ],
   "source": [
    "str(4e-14)"
   ]
  },
  {
   "cell_type": "code",
   "execution_count": 129,
   "id": "9784adb9",
   "metadata": {},
   "outputs": [
    {
     "data": {
      "text/plain": [
       "Text(0.5, 1.0, 'Number of input genes for different alpha limits')"
      ]
     },
     "execution_count": 129,
     "metadata": {},
     "output_type": "execute_result"
    },
    {
     "data": {
      "image/png": "[encoded data removed]",
      "text/plain": [
       "<Figure size 432x288 with 1 Axes>"
      ]
     },
     "metadata": {},
     "output_type": "display_data"
    }
   ],
   "source": [
    "plt.style.use(\"ggplot\")\n",
    "plt.plot(alphas, n_selected_variables)\n",
    "plt.xlabel(\"alpha value\")\n",
    "plt.ylabel(\"# of selected input genes\")\n",
    "plt.title(\"Number of input genes for different alpha limits\")"
   ]
  },
  {
   "cell_type": "code",
   "execution_count": 72,
   "id": "db3ccf84",
   "metadata": {},
   "outputs": [
    {
     "data": {
      "text/plain": [
       "2045"
      ]
     },
     "execution_count": 72,
     "metadata": {},
     "output_type": "execute_result"
    }
   ],
   "source": [
    "np.where(df_corr_ESR1[\"p-value\"]<0.00000005)[0].shape[0]"
   ]
  },
  {
   "cell_type": "code",
   "execution_count": 69,
   "id": "98f2bad1",
   "metadata": {},
   "outputs": [
    {
     "data": {
      "text/plain": [
       "True"
      ]
     },
     "execution_count": 69,
     "metadata": {},
     "output_type": "execute_result"
    }
   ],
   "source": [
    "df_corr_ESR1[\"p-value\"][2000] == 0.00000003608143349812892"
   ]
  },
  {
   "cell_type": "code",
   "execution_count": 66,
   "id": "5807d7aa",
   "metadata": {},
   "outputs": [
    {
     "data": {
      "text/plain": [
       "3.9433577381787696e-14"
      ]
     },
     "execution_count": 66,
     "metadata": {},
     "output_type": "execute_result"
    }
   ],
   "source": [
    "3.9433577381787696e-14"
   ]
  },
  {
   "cell_type": "markdown",
   "id": "d9045510",
   "metadata": {},
   "source": [
    "# ERBB2"
   ]
  },
  {
   "cell_type": "code",
   "execution_count": null,
   "id": "92fea654",
   "metadata": {},
   "outputs": [],
   "source": [
    "correlation, p_values, n = compute_correlation(df, \"ERBB2\", fdr=True)"
   ]
  },
  {
   "cell_type": "code",
   "execution_count": null,
   "id": "6a587792",
   "metadata": {},
   "outputs": [],
   "source": [
    "correlation_abs = abs(correlation)"
   ]
  },
  {
   "cell_type": "code",
   "execution_count": null,
   "id": "cea54674",
   "metadata": {},
   "outputs": [],
   "source": [
    "ERBB2_df_ = create_corr_df(correlation, n, p_values, df.columns)"
   ]
  },
  {
   "cell_type": "code",
   "execution_count": null,
   "id": "de0cc2ba",
   "metadata": {},
   "outputs": [],
   "source": [
    "selected_ERBB2, corr_df = variable_selector(ERBB2_df_)"
   ]
  },
  {
   "cell_type": "code",
   "execution_count": null,
   "id": "f3854fdd",
   "metadata": {},
   "outputs": [],
   "source": [
    "corr_df.sort_values(\"Correlation\")"
   ]
  },
  {
   "cell_type": "code",
   "execution_count": null,
   "id": "bb4b50ff",
   "metadata": {},
   "outputs": [],
   "source": [
    "inds = []\n",
    "for i, ind in enumerate(ERBB2_df.index):\n",
    "    if ind in selected_ERBB2:\n",
    "        inds.append(i)"
   ]
  },
  {
   "cell_type": "code",
   "execution_count": null,
   "id": "aec784e5",
   "metadata": {},
   "outputs": [],
   "source": []
  },
  {
   "cell_type": "code",
   "execution_count": null,
   "id": "3f2185e3",
   "metadata": {},
   "outputs": [],
   "source": [
    "mean_genes = df[ERBB2_df.index].mean()"
   ]
  },
  {
   "cell_type": "code",
   "execution_count": null,
   "id": "f762a2c3",
   "metadata": {},
   "outputs": [],
   "source": [
    "mean_genes[sorter]"
   ]
  },
  {
   "cell_type": "code",
   "execution_count": null,
   "id": "282464eb",
   "metadata": {},
   "outputs": [],
   "source": [
    "mean_genes_levels = pd.cut(mean_genes, bins=[-99,-0.1,0.1,99],labels=[\"-1\",\"0\",\"0.5\"])"
   ]
  },
  {
   "cell_type": "code",
   "execution_count": null,
   "id": "1a5eaa6b",
   "metadata": {},
   "outputs": [],
   "source": [
    "mean_genes_levels  = pd.to_numeric(mean_genes_levels)"
   ]
  },
  {
   "cell_type": "code",
   "execution_count": null,
   "id": "5bb7ba4f",
   "metadata": {},
   "outputs": [],
   "source": [
    "(mean_genes_levels>0.1).sum()"
   ]
  },
  {
   "cell_type": "code",
   "execution_count": null,
   "id": "36ff0c2f",
   "metadata": {
    "scrolled": true
   },
   "outputs": [],
   "source": [
    "ERBB2_df = create_corr_df(correlation, n, p_values, df.columns)"
   ]
  },
  {
   "cell_type": "code",
   "execution_count": null,
   "id": "11ab3d11",
   "metadata": {},
   "outputs": [],
   "source": [
    "selected_inds = []\n",
    "for i, ind in enumerate(ERBB2_df.index):\n",
    "    if ind in selected_ERBB2:\n",
    "        selected_inds.append(i)"
   ]
  },
  {
   "cell_type": "code",
   "execution_count": null,
   "id": "ce743af9",
   "metadata": {},
   "outputs": [],
   "source": [
    "excluded_inds = []\n",
    "for i, ind in enumerate(ERBB2_df.index):\n",
    "    if ind not in selected_ERBB2:\n",
    "        excluded_inds.append(i)"
   ]
  },
  {
   "cell_type": "code",
   "execution_count": null,
   "id": "a962e6e2",
   "metadata": {},
   "outputs": [],
   "source": [
    "ERBB2_df.to_pickle(\"/data/severs/ERBB2_correlation_p_values.pkl\")"
   ]
  },
  {
   "cell_type": "code",
   "execution_count": null,
   "id": "53c576dd",
   "metadata": {},
   "outputs": [],
   "source": [
    "ERBB2_input_variables_correct = complete_variable_selector(df, \"ESR1\")"
   ]
  },
  {
   "cell_type": "code",
   "execution_count": null,
   "id": "cadfcb0c",
   "metadata": {},
   "outputs": [],
   "source": [
    "correlation[inds].max()"
   ]
  },
  {
   "cell_type": "code",
   "execution_count": null,
   "id": "94122955",
   "metadata": {},
   "outputs": [],
   "source": [
    "np.argmax(correlation[inds])"
   ]
  },
  {
   "cell_type": "code",
   "execution_count": null,
   "id": "e19e214a",
   "metadata": {},
   "outputs": [],
   "source": [
    "df.columns[inds[803]]"
   ]
  },
  {
   "cell_type": "code",
   "execution_count": null,
   "id": "bdd65b56",
   "metadata": {},
   "outputs": [],
   "source": [
    "abs(correlation[inds]).min()"
   ]
  },
  {
   "cell_type": "code",
   "execution_count": null,
   "id": "c4eb53eb",
   "metadata": {},
   "outputs": [],
   "source": [
    "%matplotlib inline\n",
    "fig, ax = plt.subplots(dpi=120)\n",
    "sorter = np.argsort(p_values)\n",
    "colors = n\n",
    "sc = ax.scatter(mean_genes[excluded_inds],(correlation[excluded_inds]), s=0.6, label=\"Excluded\", c=\"red\", cmap=\"Set1\", alpha=1)\n",
    "sc = ax.scatter(mean_genes[selected_inds],(correlation[selected_inds]), s=0.6, label=\"Selected\", c=\"black\", cmap=\"Set1\", alpha=1)\n",
    "\n",
    "#ax.scatter(np.arange(28635),p_values[sorter]*2, s=0.3, label=\"FDR p-values\", color=\"orange\")\n",
    "#ax.plot((10000,10000), (0, 1), color=\"r\", linestyle=\"--\", label= \"0.05 p-value\")\n",
    "ax.set_ylim((-0.6,0.6))\n",
    "#ax.set_ylim((-0.01,0.3))\n",
    "#ax.set_xlim((-100,2000))\n",
    "fig.tight_layout()\n",
    "ax.set_title(\"Selected variables' correlation vs average expression ERBB2\")\n",
    "ax.set_ylabel(\"Correlation\")\n",
    "ax.set_xlabel(\"Average expression\")\n",
    "ax.legend()"
   ]
  },
  {
   "cell_type": "code",
   "execution_count": null,
   "id": "d3f7931b",
   "metadata": {},
   "outputs": [],
   "source": [
    "fig, ax = plt.subplots(dpi=120)\n",
    "sorter = np.argsort(p_values)\n",
    "colors = n[sorter]\n",
    "sc = ax.scatter(np.arange(28635),abs(correlation[sorter]), s=0.6, label=\"|Correlaton|\", c=colors)\n",
    "ax.scatter(np.arange(28635),p_values[sorter]*2, s=0.3, label=\"FDR p-values\", color=\"orange\")\n",
    "#ax.plot((10000,10000), (0, 1), color=\"r\", linestyle=\"--\", label= \"0.05 p-value\")\n",
    "ax2 = ax.twinx()\n",
    "ax2.set_ylim((-0.01,1.01))\n",
    "ax2.tick_params(\n",
    "    axis='y',          # changes apply to the x-axis\n",
    "    which='both',      # both major and minor ticks are affected\n",
    "    right=False,      # ticks along the bottom edge are off\n",
    "    left=False,         # ticks along the top edge are off\n",
    "    labelright=False) # labels along the bottom edge are off\n",
    "ax.set_ylim((-0.01,0.3))\n",
    "ax.set_xlim((-100,2000))\n",
    "plt.colorbar(sc)\n",
    "fig.tight_layout()\n",
    "ax.set_title(\"Gene count, correlation, and FDR p-values for every gene in relation to ERBB2\")\n",
    "ax.set_ylabel(\"Correlation & p-value\")\n",
    "ax.set_xlabel(\"Sorted by p-value\")\n",
    "ax.legend()"
   ]
  },
  {
   "cell_type": "code",
   "execution_count": null,
   "id": "f334ae76",
   "metadata": {},
   "outputs": [],
   "source": []
  },
  {
   "cell_type": "code",
   "execution_count": null,
   "id": "30c86a1e",
   "metadata": {},
   "outputs": [],
   "source": [
    "fig, ax = plt.subplots(dpi=120)\n",
    "sorter = np.argsort(p_values)\n",
    "colors = n[sorter]\n",
    "sc = ax.scatter(np.arange(28635),abs(correlation[sorter]), s=0.6, label=\"|Correlaton|\", c=colors)\n",
    "ax.scatter(np.arange(28635),p_values[sorter]*2, s=0.3, label=\"FDR p-values\", color=\"orange\")\n",
    "ax.plot((10000,10000), (0, 1), color=\"r\", linestyle=\"--\", label= \"0.05 p-value\")\n",
    "ax2 = ax.twinx()\n",
    "ax2.set_ylim((-0.01,1.01))\n",
    "ax2.tick_params(\n",
    "    axis='y',          # changes apply to the x-axis\n",
    "    which='both',      # both major and minor ticks are affected\n",
    "    right=False,      # ticks along the bottom edge are off\n",
    "    left=False,         # ticks along the top edge are off\n",
    "    labelright=False) # labels along the bottom edge are off\n",
    "ax.set_ylim((-0.01,1.01))\n",
    "plt.colorbar(sc)\n",
    "fig.tight_layout()\n",
    "ax.set_title(\"Gene count, correlation, and FDR p-values for every gene in relation to ERBB2\")\n",
    "ax.legend()"
   ]
  },
  {
   "cell_type": "code",
   "execution_count": null,
   "id": "193bdd80",
   "metadata": {},
   "outputs": [],
   "source": [
    "df_new.sort_values(\"cor_pearson\")"
   ]
  },
  {
   "cell_type": "markdown",
   "id": "a86200e7",
   "metadata": {},
   "source": [
    "# CDK1"
   ]
  },
  {
   "cell_type": "code",
   "execution_count": null,
   "id": "7744a6a1",
   "metadata": {},
   "outputs": [],
   "source": [
    "correlation_cdk1, p_values_cdk1, n_cdk1 = compute_correlation(df, \"CDK1\", fdr=True)"
   ]
  },
  {
   "cell_type": "code",
   "execution_count": null,
   "id": "e0e4fe80",
   "metadata": {},
   "outputs": [],
   "source": [
    "CDK1_df = create_corr_df(correlation, n, p_values, df.columns)"
   ]
  },
  {
   "cell_type": "code",
   "execution_count": null,
   "id": "3336d981",
   "metadata": {},
   "outputs": [],
   "source": [
    "CDK1_df.to_pickle(\"/data/severs/CDK1_correlation_p_values.pkl\")"
   ]
  },
  {
   "cell_type": "code",
   "execution_count": null,
   "id": "c7d38931",
   "metadata": {},
   "outputs": [],
   "source": [
    "CDK1_input_variables = variable_selector(CDK1_df)"
   ]
  },
  {
   "cell_type": "markdown",
   "id": "58f1468b",
   "metadata": {},
   "source": [
    "# CDK4"
   ]
  },
  {
   "cell_type": "code",
   "execution_count": null,
   "id": "69b63c36",
   "metadata": {
    "scrolled": true
   },
   "outputs": [],
   "source": [
    "CDK4_input_variables = complete_variable_selector(df, \"CDK4\", save_corr_to_pickle=\"/data/severs/CDK4_correlation_p_values.pkl\")"
   ]
  },
  {
   "cell_type": "markdown",
   "id": "848ec4c5",
   "metadata": {},
   "source": [
    "# ESR1"
   ]
  },
  {
   "cell_type": "code",
   "execution_count": null,
   "id": "42fdf3bf",
   "metadata": {},
   "outputs": [],
   "source": [
    "correlation_ESR1, p_values_ESR1, n_ESR1 = compute_correlation(df, \"ESR1\", fdr=True)"
   ]
  },
  {
   "cell_type": "code",
   "execution_count": null,
   "id": "e0f4781c",
   "metadata": {},
   "outputs": [],
   "source": [
    "big_genes = [\"ANKRD30A\", \"STC2\", \"TFF3\", \"GFRA1\"]"
   ]
  },
  {
   "cell_type": "code",
   "execution_count": null,
   "id": "d2459284",
   "metadata": {},
   "outputs": [],
   "source": [
    "for gene in big_genes:\n",
    "    print(f\"{gene}: {df[gene].corr(df['GFRA1']):.4f}\")"
   ]
  },
  {
   "cell_type": "code",
   "execution_count": null,
   "id": "80d178a7",
   "metadata": {},
   "outputs": [],
   "source": [
    "df[].corr(df[df.columns[i]])"
   ]
  },
  {
   "cell_type": "code",
   "execution_count": null,
   "id": "23c2d7c4",
   "metadata": {},
   "outputs": [],
   "source": [
    "corr_df_ESR1 = create_corr_df(correlation_ESR1, n_ESR1, p_values_ESR1, df.columns)"
   ]
  },
  {
   "cell_type": "code",
   "execution_count": null,
   "id": "ed8d9c8e",
   "metadata": {},
   "outputs": [],
   "source": [
    "corr_df_ESR1.loc[\"PDZK1\"][\"Correlation\"]"
   ]
  },
  {
   "cell_type": "code",
   "execution_count": null,
   "id": "4a63f94a",
   "metadata": {},
   "outputs": [],
   "source": [
    "selected_ESR1 = variable_selector(corr_df_ESR1)"
   ]
  },
  {
   "cell_type": "code",
   "execution_count": null,
   "id": "3be37d86",
   "metadata": {},
   "outputs": [],
   "source": [
    "inds_ESR1 = []\n",
    "for i, ind in enumerate(corr_df_ESR1.index):\n",
    "    if ind in selected_ESR1[0]:\n",
    "        inds_ESR1.append(i)"
   ]
  },
  {
   "cell_type": "code",
   "execution_count": null,
   "id": "cee043e8",
   "metadata": {},
   "outputs": [],
   "source": [
    "mean_genes_ESR1 = df[corr_df_ESR1.index].mean()"
   ]
  },
  {
   "cell_type": "code",
   "execution_count": null,
   "id": "7bd53371",
   "metadata": {},
   "outputs": [],
   "source": [
    "%matplotlib inline\n",
    "fig, ax = plt.subplots(dpi=120)\n",
    "sorter = np.argsort(p_values_ESR1)\n",
    "colors = n_ESR1\n",
    "sc = ax.scatter(mean_genes_ESR1[inds_ESR1],(correlation_ESR1[inds_ESR1]), s=0.6, label=\"Correlation\", c=colors[inds_ESR1], cmap=\"Set1\", alpha=0.5)\n",
    "#ax.scatter(np.arange(28635),p_values[sorter]*2, s=0.3, label=\"FDR p-values\", color=\"orange\")\n",
    "#ax.plot((10000,10000), (0, 1), color=\"r\", linestyle=\"--\", label= \"0.05 p-value\")\n",
    "ax2 = ax.twinx()\n",
    "ax.set_ylim((-0.3,0.3))\n",
    "ax2.tick_params(\n",
    "    axis='y',          # changes apply to the x-axis\n",
    "    which='both',      # both major and minor ticks are affected\n",
    "    right=False,      # ticks along the bottom edge are off\n",
    "    left=False,         # ticks along the top edge are off\n",
    "    labelright=False) # labels along the bottom edge are off\n",
    "#ax.set_ylim((-0.01,0.3))\n",
    "#ax.set_xlim((-100,2000))\n",
    "plt.colorbar(sc, cmap=\"seismic\")\n",
    "fig.tight_layout()\n",
    "ax.set_title(\"Gene count, correlation, and FDR p-values for every gene in relation to ERBB2\")\n",
    "ax.set_ylabel(\"Correlation\")\n",
    "ax.set_xlabel(\"Average expression\")\n",
    "ax.legend()"
   ]
  },
  {
   "cell_type": "code",
   "execution_count": null,
   "id": "fc3b6160",
   "metadata": {},
   "outputs": [],
   "source": [
    "corr_sorter_ESR1 = np.argsort(abs(correlation_ESR1[NAN_ex]))"
   ]
  },
  {
   "cell_type": "code",
   "execution_count": null,
   "id": "97a0fc0c",
   "metadata": {},
   "outputs": [],
   "source": [
    "NAN_ex"
   ]
  },
  {
   "cell_type": "code",
   "execution_count": null,
   "id": "37f264c7",
   "metadata": {},
   "outputs": [],
   "source": [
    "np.abs(correlation_ESR1[NAN_ex][corr_sorter_ESR1])"
   ]
  },
  {
   "cell_type": "code",
   "execution_count": null,
   "id": "4f027161",
   "metadata": {},
   "outputs": [],
   "source": []
  },
  {
   "cell_type": "code",
   "execution_count": null,
   "id": "84194d37",
   "metadata": {},
   "outputs": [],
   "source": [
    "correlation_ESR1[NAN_ex].min()"
   ]
  },
  {
   "cell_type": "code",
   "execution_count": null,
   "id": "3cf89781",
   "metadata": {},
   "outputs": [],
   "source": [
    "df.columns[NAN_ex][corr_sorter_ESR1][-20:]"
   ]
  },
  {
   "cell_type": "code",
   "execution_count": null,
   "id": "c7522a5c",
   "metadata": {
    "scrolled": false
   },
   "outputs": [],
   "source": [
    "fig, ax = plt.subplots(figsize=(4,6), dpi=200)\n",
    "ax.barh(np.linspace(0,40,20), (correlation_ESR1[NAN_ex][corr_sorter_ESR1][-21:-1]), align='center', height=1)\n",
    "ax.set_yticks(np.linspace(0,40,20))\n",
    "ax.set_yticklabels(df.columns[NAN_ex][corr_sorter_ESR1][-21:-1]);\n",
    "ax.set_xlabel(\"Correlation\")\n",
    "ax.set_title(\"20 highest correlated genes with ESR1\")\n",
    "ax.spines['right'].set_visible(False)\n",
    "ax.spines['top'].set_visible(False)\n",
    "plt.show()"
   ]
  },
  {
   "cell_type": "code",
   "execution_count": null,
   "id": "9f1bdac1",
   "metadata": {},
   "outputs": [],
   "source": [
    "df['CTD-2527I21.14'].isnull().sum()"
   ]
  },
  {
   "cell_type": "code",
   "execution_count": null,
   "id": "783a15c3",
   "metadata": {},
   "outputs": [],
   "source": [
    "highest_correlated = []\n",
    "for c in correlation_ESR1[NAN_ex][corr_sorter_ESR1][-20:]:\n",
    "    highest_correlated.append(np.where(correlation_ESR1 == c)[0][0])"
   ]
  },
  {
   "cell_type": "code",
   "execution_count": null,
   "id": "f15b6c20",
   "metadata": {},
   "outputs": [],
   "source": [
    "df.iloc[:,highest_correlated]"
   ]
  },
  {
   "cell_type": "code",
   "execution_count": null,
   "id": "3b0c60ff",
   "metadata": {},
   "outputs": [],
   "source": [
    "NAN_ex = np.where(n_ESR1>0.8*n_ESR1.max())[0]"
   ]
  },
  {
   "cell_type": "code",
   "execution_count": null,
   "id": "27a2b465",
   "metadata": {},
   "outputs": [],
   "source": [
    "fig, ax = plt.subplots(figsize = (6,4), dpi=200)\n",
    "sorter = np.argsort(p_values_ESR1)\n",
    "colors = n_ESR1[sorter].copy()\n",
    "colors[-2] = 0\n",
    "sc = ax.scatter(np.arange(28635),abs(correlation_ESR1[sorter]), s=0.6, label=\"|Correlation|\", c=colors)\n",
    "ax.scatter(np.arange(28635),p_values_ESR1[sorter]*2, s=0.3, label=\"FDR p-values\", color=\"orange\")\n",
    "ax.plot((10000,10000), (0, 1), color=\"r\", linestyle=\"--\", label= \"0.05 p-value\")\n",
    "ax2 = ax.twinx()\n",
    "ax2.set_ylim((-0.01,1.01))\n",
    "ax2.tick_params(\n",
    "    axis='y',          # changes apply to the x-axis\n",
    "    which='both',      # both major and minor ticks are affected\n",
    "    right=False,      # ticks along the bottom edge are off\n",
    "    left=False,         # ticks along the top edge are off\n",
    "    labelright=False) # labels along the bottom edge are off\n",
    "ax.set_ylim((-0.01,1.01))\n",
    "ax.set_xlabel(\"Genes sorted by FDR p-value\")\n",
    "ax.set_ylabel(\"Correlation & p-value\")\n",
    "cb = plt.colorbar(sc, label=\"nGene\")\n",
    "fig.tight_layout()\n",
    "ax.set_title(\"Input variables' correlation with ESR1\")\n",
    "ax.legend()"
   ]
  },
  {
   "cell_type": "code",
   "execution_count": null,
   "id": "92c77b49",
   "metadata": {},
   "outputs": [],
   "source": [
    "ESR1_df = create_corr_df(correlation_ESR1, n_ESR1, p_values_ESR1, df.columns)"
   ]
  },
  {
   "cell_type": "code",
   "execution_count": null,
   "id": "b7c5bdc5",
   "metadata": {},
   "outputs": [],
   "source": [
    "CDK4_input_variables = complete_variable_selector(df, \"ESR1\", save_corr_to_pickle=\"/data/severs/ESR1_correlation_p_values.pkl\")"
   ]
  },
  {
   "cell_type": "code",
   "execution_count": null,
   "id": "2bfe996f",
   "metadata": {},
   "outputs": [],
   "source": [
    "arr = np.arange(10)\n",
    "np.random.shuffle(arr)"
   ]
  },
  {
   "cell_type": "code",
   "execution_count": null,
   "id": "983d5ec1",
   "metadata": {},
   "outputs": [],
   "source": [
    "inds = np.arange(11)\n",
    "np.random.shuffle(inds)\n",
    "train_mask = np.array([np.arange(11)<int(10*0.8)])"
   ]
  },
  {
   "cell_type": "code",
   "execution_count": null,
   "id": "58a0764b",
   "metadata": {},
   "outputs": [],
   "source": [
    "inds"
   ]
  },
  {
   "cell_type": "code",
   "execution_count": null,
   "id": "687ebd4e",
   "metadata": {},
   "outputs": [],
   "source": [
    "train_mask"
   ]
  },
  {
   "cell_type": "markdown",
   "id": "416fbfdc",
   "metadata": {},
   "source": []
  }
 ],
 "metadata": {
  "kernelspec": {
   "display_name": "Python 3",
   "language": "python",
   "name": "python3"
  },
  "language_info": {
   "codemirror_mode": {
    "name": "ipython",
    "version": 3
   },
   "file_extension": ".py",
   "mimetype": "text/x-python",
   "name": "python",
   "nbconvert_exporter": "python",
   "pygments_lexer": "ipython3",
   "version": "3.9.6"
  }
 },
 "nbformat": 4,
 "nbformat_minor": 5
}
