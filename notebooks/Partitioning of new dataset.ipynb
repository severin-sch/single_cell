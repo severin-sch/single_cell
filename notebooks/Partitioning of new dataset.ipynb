{
 "cells": [
  {
   "cell_type": "code",
   "execution_count": 1,
   "id": "d30fa36d",
   "metadata": {},
   "outputs": [],
   "source": [
    "import modin.pandas as pd\n",
    "import numpy as np\n",
    "import src.model_builder as mb\n",
    "from tqdm.notebook import tqdm"
   ]
  },
  {
   "cell_type": "code",
   "execution_count": 2,
   "id": "54aad7e9",
   "metadata": {},
   "outputs": [
    {
     "name": "stderr",
     "output_type": "stream",
     "text": [
      "2021-08-25 10:34:00,293\tINFO services.py:1263 -- View the Ray dashboard at \u001b[1m\u001b[32mhttp://127.0.0.1:8265\u001b[39m\u001b[22m\n"
     ]
    },
    {
     "data": {
      "text/plain": [
       "{'node_ip_address': '129.240.3.22',\n",
       " 'raylet_ip_address': '129.240.3.22',\n",
       " 'redis_address': '129.240.3.22:6379',\n",
       " 'object_store_address': '/tmp/ray/session_2021-08-25_10-33-57_681585_97483/sockets/plasma_store',\n",
       " 'raylet_socket_name': '/tmp/ray/session_2021-08-25_10-33-57_681585_97483/sockets/raylet',\n",
       " 'webui_url': '127.0.0.1:8265',\n",
       " 'session_dir': '/tmp/ray/session_2021-08-25_10-33-57_681585_97483',\n",
       " 'metrics_export_port': 58561,\n",
       " 'node_id': '2df8c5f47f6f295ed80aeed51f0cea668cdca85e5065061e18770105'}"
      ]
     },
     "execution_count": 2,
     "metadata": {},
     "output_type": "execute_result"
    }
   ],
   "source": [
    "import ray\n",
    "ray.init()"
   ]
  },
  {
   "cell_type": "code",
   "execution_count": 29,
   "id": "84354bdc",
   "metadata": {},
   "outputs": [],
   "source": [
    "ray.shutdown()"
   ]
  },
  {
   "cell_type": "code",
   "execution_count": 3,
   "id": "8a63ce22",
   "metadata": {},
   "outputs": [],
   "source": [
    "import pickle"
   ]
  },
  {
   "cell_type": "code",
   "execution_count": 4,
   "id": "d7626e84",
   "metadata": {},
   "outputs": [],
   "source": [
    "with open(\"/data/xiaoral/data/cell_trt_rna_transposed.pickle\", \"rb\") as handle:\n",
    "    data_dict = pickle.load(handle)"
   ]
  },
  {
   "cell_type": "code",
   "execution_count": 9,
   "id": "15b3794a",
   "metadata": {},
   "outputs": [],
   "source": [
    "genes = list(data_dict.keys())"
   ]
  },
  {
   "cell_type": "code",
   "execution_count": 7,
   "id": "dd2dd748",
   "metadata": {},
   "outputs": [],
   "source": [
    "with open(\"/data/xiaoral/data/cell_trt_meta.pickle\", \"rb\") as handle:\n",
    "    metadata_dict = pickle.load(handle)"
   ]
  },
  {
   "cell_type": "code",
   "execution_count": 8,
   "id": "8389566b",
   "metadata": {},
   "outputs": [
    {
     "data": {
      "text/plain": [
       "dict_keys(['orig.ident', 'nCount_RNA', 'nFeature_RNA', 'percent.mt', 'TCR_clonotype_id', 'TCR_chain', 'TCR_v_gene', 'TCR_j_gene', 'TCR_c_gene', 'TCR_caten', 'cdr3s_aa', 'BCR_clonotype_id', 'BCR_chain', 'BCR_v_gene', 'BCR_j_gene', 'BCR_c_gene', 'BCR_caten', 'Condition', 'Time_point', 'Trial', 'patient_number', 'RNA_snn_res.0.8', 'seurat_clusters', 'RNA_snn_res.1', 'RNA_snn_res.1.2', 'main.ids'])"
      ]
     },
     "execution_count": 8,
     "metadata": {},
     "output_type": "execute_result"
    }
   ],
   "source": [
    "metadata_dict.keys()"
   ]
  },
  {
   "cell_type": "code",
   "execution_count": 5,
   "id": "0d3df418",
   "metadata": {},
   "outputs": [],
   "source": [
    "values = np.empty((33562, 94231))"
   ]
  },
  {
   "cell_type": "code",
   "execution_count": 10,
   "id": "33094dcf",
   "metadata": {},
   "outputs": [
    {
     "data": {
      "application/vnd.jupyter.widget-view+json": {
       "model_id": "68e2c07844744435abba08381ab4474a",
       "version_major": 2,
       "version_minor": 0
      },
      "text/plain": [
       "  0%|          | 0/33562 [00:00<?, ?it/s]"
      ]
     },
     "metadata": {},
     "output_type": "display_data"
    }
   ],
   "source": [
    "for i in tqdm(range(values.shape[0])):\n",
    "    values[i] = data_dict[genes[i]]"
   ]
  },
  {
   "cell_type": "code",
   "execution_count": 11,
   "id": "47fbf91e",
   "metadata": {},
   "outputs": [],
   "source": [
    "val = values.T"
   ]
  },
  {
   "cell_type": "code",
   "execution_count": 12,
   "id": "6ec103df",
   "metadata": {},
   "outputs": [
    {
     "name": "stderr",
     "output_type": "stream",
     "text": [
      "Distributing <class 'numpy.ndarray'> object. This may take some time.\n"
     ]
    }
   ],
   "source": [
    "df = pd.DataFrame(val, columns=genes)"
   ]
  },
  {
   "cell_type": "code",
   "execution_count": 13,
   "id": "6617beb1",
   "metadata": {},
   "outputs": [
    {
     "data": {
      "text/html": [
       "<div>\n",
       "<style scoped>\n",
       "    .dataframe tbody tr th:only-of-type {\n",
       "        vertical-align: middle;\n",
       "    }\n",
       "\n",
       "    .dataframe tbody tr th {\n",
       "        vertical-align: top;\n",
       "    }\n",
       "\n",
       "    .dataframe thead th {\n",
       "        text-align: right;\n",
       "    }\n",
       "</style>\n",
       "<table border=\"1\" class=\"dataframe\">\n",
       "  <thead>\n",
       "    <tr style=\"text-align: right;\">\n",
       "      <th></th>\n",
       "      <th>AL627309.1</th>\n",
       "      <th>AL627309.3</th>\n",
       "      <th>AL627309.5</th>\n",
       "      <th>AP006222.2</th>\n",
       "      <th>AL732372.1</th>\n",
       "      <th>LINC01409</th>\n",
       "      <th>FAM87B</th>\n",
       "      <th>LINC01128</th>\n",
       "      <th>LINC00115</th>\n",
       "      <th>FAM41C</th>\n",
       "      <th>...</th>\n",
       "      <th>TMEM132D</th>\n",
       "      <th>AC012414.4</th>\n",
       "      <th>AC090164.2</th>\n",
       "      <th>AC133485.2</th>\n",
       "      <th>AC005548.1</th>\n",
       "      <th>AC008543.4</th>\n",
       "      <th>AL049794.2</th>\n",
       "      <th>DEFB123</th>\n",
       "      <th>BX322557.1</th>\n",
       "      <th>RBMXL3</th>\n",
       "    </tr>\n",
       "  </thead>\n",
       "  <tbody>\n",
       "    <tr>\n",
       "      <th>0</th>\n",
       "      <td>-0.037671</td>\n",
       "      <td>0.0</td>\n",
       "      <td>-0.018433</td>\n",
       "      <td>-0.039177</td>\n",
       "      <td>0.0</td>\n",
       "      <td>-0.062080</td>\n",
       "      <td>-0.011830</td>\n",
       "      <td>-0.097566</td>\n",
       "      <td>-0.005060</td>\n",
       "      <td>-0.043819</td>\n",
       "      <td>...</td>\n",
       "      <td>0.0</td>\n",
       "      <td>0.0</td>\n",
       "      <td>0.0</td>\n",
       "      <td>0.0</td>\n",
       "      <td>0.0</td>\n",
       "      <td>0.0</td>\n",
       "      <td>0.0</td>\n",
       "      <td>0.0</td>\n",
       "      <td>0.0</td>\n",
       "      <td>0.0</td>\n",
       "    </tr>\n",
       "    <tr>\n",
       "      <th>1</th>\n",
       "      <td>-0.022179</td>\n",
       "      <td>0.0</td>\n",
       "      <td>-0.037042</td>\n",
       "      <td>-0.025707</td>\n",
       "      <td>0.0</td>\n",
       "      <td>-0.179547</td>\n",
       "      <td>-0.048030</td>\n",
       "      <td>2.065165</td>\n",
       "      <td>-0.176500</td>\n",
       "      <td>-0.056235</td>\n",
       "      <td>...</td>\n",
       "      <td>0.0</td>\n",
       "      <td>0.0</td>\n",
       "      <td>0.0</td>\n",
       "      <td>0.0</td>\n",
       "      <td>0.0</td>\n",
       "      <td>0.0</td>\n",
       "      <td>0.0</td>\n",
       "      <td>0.0</td>\n",
       "      <td>0.0</td>\n",
       "      <td>0.0</td>\n",
       "    </tr>\n",
       "    <tr>\n",
       "      <th>2</th>\n",
       "      <td>-0.027216</td>\n",
       "      <td>0.0</td>\n",
       "      <td>-0.039989</td>\n",
       "      <td>-0.014498</td>\n",
       "      <td>0.0</td>\n",
       "      <td>-0.106396</td>\n",
       "      <td>-0.016048</td>\n",
       "      <td>-0.164212</td>\n",
       "      <td>-0.085616</td>\n",
       "      <td>-0.040237</td>\n",
       "      <td>...</td>\n",
       "      <td>0.0</td>\n",
       "      <td>0.0</td>\n",
       "      <td>0.0</td>\n",
       "      <td>0.0</td>\n",
       "      <td>0.0</td>\n",
       "      <td>0.0</td>\n",
       "      <td>0.0</td>\n",
       "      <td>0.0</td>\n",
       "      <td>0.0</td>\n",
       "      <td>0.0</td>\n",
       "    </tr>\n",
       "    <tr>\n",
       "      <th>3</th>\n",
       "      <td>-0.023800</td>\n",
       "      <td>0.0</td>\n",
       "      <td>-0.044782</td>\n",
       "      <td>-0.009735</td>\n",
       "      <td>0.0</td>\n",
       "      <td>-0.119222</td>\n",
       "      <td>-0.017781</td>\n",
       "      <td>-0.184942</td>\n",
       "      <td>-0.108913</td>\n",
       "      <td>-0.039240</td>\n",
       "      <td>...</td>\n",
       "      <td>0.0</td>\n",
       "      <td>0.0</td>\n",
       "      <td>0.0</td>\n",
       "      <td>0.0</td>\n",
       "      <td>0.0</td>\n",
       "      <td>0.0</td>\n",
       "      <td>0.0</td>\n",
       "      <td>0.0</td>\n",
       "      <td>0.0</td>\n",
       "      <td>0.0</td>\n",
       "    </tr>\n",
       "    <tr>\n",
       "      <th>4</th>\n",
       "      <td>-0.013042</td>\n",
       "      <td>0.0</td>\n",
       "      <td>-0.048707</td>\n",
       "      <td>-0.007996</td>\n",
       "      <td>0.0</td>\n",
       "      <td>-0.097011</td>\n",
       "      <td>-0.000406</td>\n",
       "      <td>-0.144852</td>\n",
       "      <td>-0.105478</td>\n",
       "      <td>-0.022218</td>\n",
       "      <td>...</td>\n",
       "      <td>0.0</td>\n",
       "      <td>0.0</td>\n",
       "      <td>0.0</td>\n",
       "      <td>0.0</td>\n",
       "      <td>0.0</td>\n",
       "      <td>0.0</td>\n",
       "      <td>0.0</td>\n",
       "      <td>0.0</td>\n",
       "      <td>0.0</td>\n",
       "      <td>0.0</td>\n",
       "    </tr>\n",
       "  </tbody>\n",
       "</table>\n",
       "<p>5 rows x 33562 columns</p>\n",
       "</div>"
      ],
      "text/plain": [
       "   AL627309.1  AL627309.3  AL627309.5  AP006222.2  AL732372.1  LINC01409  \\\n",
       "0   -0.037671         0.0   -0.018433   -0.039177         0.0  -0.062080   \n",
       "1   -0.022179         0.0   -0.037042   -0.025707         0.0  -0.179547   \n",
       "2   -0.027216         0.0   -0.039989   -0.014498         0.0  -0.106396   \n",
       "3   -0.023800         0.0   -0.044782   -0.009735         0.0  -0.119222   \n",
       "4   -0.013042         0.0   -0.048707   -0.007996         0.0  -0.097011   \n",
       "\n",
       "     FAM87B  LINC01128  LINC00115    FAM41C  ...  TMEM132D  AC012414.4  \\\n",
       "0 -0.011830  -0.097566  -0.005060 -0.043819  ...       0.0         0.0   \n",
       "1 -0.048030   2.065165  -0.176500 -0.056235  ...       0.0         0.0   \n",
       "2 -0.016048  -0.164212  -0.085616 -0.040237  ...       0.0         0.0   \n",
       "3 -0.017781  -0.184942  -0.108913 -0.039240  ...       0.0         0.0   \n",
       "4 -0.000406  -0.144852  -0.105478 -0.022218  ...       0.0         0.0   \n",
       "\n",
       "   AC090164.2  AC133485.2  AC005548.1  AC008543.4  AL049794.2  DEFB123  \\\n",
       "0         0.0         0.0         0.0         0.0         0.0      0.0   \n",
       "1         0.0         0.0         0.0         0.0         0.0      0.0   \n",
       "2         0.0         0.0         0.0         0.0         0.0      0.0   \n",
       "3         0.0         0.0         0.0         0.0         0.0      0.0   \n",
       "4         0.0         0.0         0.0         0.0         0.0      0.0   \n",
       "\n",
       "   BX322557.1  RBMXL3  \n",
       "0         0.0     0.0  \n",
       "1         0.0     0.0  \n",
       "2         0.0     0.0  \n",
       "3         0.0     0.0  \n",
       "4         0.0     0.0  \n",
       "\n",
       "[5 rows x 33562 columns]"
      ]
     },
     "execution_count": 13,
     "metadata": {},
     "output_type": "execute_result"
    }
   ],
   "source": [
    "df.head()"
   ]
  },
  {
   "cell_type": "code",
   "execution_count": 14,
   "id": "cdec7a73",
   "metadata": {},
   "outputs": [],
   "source": [
    "for key in metadata_dict:\n",
    "    df[key] = metadata_dict[key]"
   ]
  },
  {
   "cell_type": "code",
   "execution_count": 15,
   "id": "ddf12227",
   "metadata": {},
   "outputs": [],
   "source": [
    "df[\"main.ids\"].replace(\"Cancer cells ?\", \"Cancer cells\", inplace=True)"
   ]
  },
  {
   "cell_type": "code",
   "execution_count": 25,
   "id": "fa3596a3",
   "metadata": {},
   "outputs": [
    {
     "data": {
      "text/plain": [
       "Fibroblasts                  24851\n",
       "Cancer cells                 24409\n",
       "T- & NK-cells                18199\n",
       "Endothelial cells             9708\n",
       "Monocytes/Macrophages         9244\n",
       "B-cells                       4318\n",
       "Dendritic cells               1680\n",
       "B-cells / Cancer cells        1657\n",
       "B-cells / Dendritic cells      165\n",
       "Name: main.ids, dtype: int64"
      ]
     },
     "execution_count": 25,
     "metadata": {},
     "output_type": "execute_result"
    }
   ],
   "source": [
    "df[\"main.ids\"].value_counts()"
   ]
  },
  {
   "cell_type": "code",
   "execution_count": 19,
   "id": "076f9ff6",
   "metadata": {},
   "outputs": [
    {
     "name": "stderr",
     "output_type": "stream",
     "text": [
      "value_counts defaulting to pandas implementation.\n",
      "To request implementation, send an email to feature_requests@modin.org.\n"
     ]
    },
    {
     "data": {
      "text/plain": [
       "2mnd        40470\n",
       "4mnd        27270\n",
       "Baseline    26491\n",
       "Name: Time_point, dtype: int64"
      ]
     },
     "execution_count": 19,
     "metadata": {},
     "output_type": "execute_result"
    }
   ],
   "source": [
    "df[\"Time_point\"].value_counts()"
   ]
  },
  {
   "cell_type": "code",
   "execution_count": 20,
   "id": "801274c3",
   "metadata": {},
   "outputs": [],
   "source": [
    "df_2mnd = df[df[\"Time_point\"] == \"2mnd\"]"
   ]
  },
  {
   "cell_type": "code",
   "execution_count": 21,
   "id": "fd9ceacb",
   "metadata": {},
   "outputs": [],
   "source": [
    "df_4mnd = df[df[\"Time_point\"] == \"4mnd\"]\n",
    "df_base = df[df[\"Time_point\"] == \"Baseline\"]"
   ]
  },
  {
   "cell_type": "code",
   "execution_count": 23,
   "id": "d81b9cea",
   "metadata": {},
   "outputs": [],
   "source": [
    "df_base_cancer =df_base[df_base[\"main.ids\"] == \"Cancer cells\"]"
   ]
  },
  {
   "cell_type": "code",
   "execution_count": 26,
   "id": "3925e14d",
   "metadata": {},
   "outputs": [],
   "source": [
    "df_4mnd_cancer = df_4mnd[df_4mnd[\"main.ids\"] == \"Cancer cells\"]\n",
    "df_2mnd_cancer = df_2mnd[df_2mnd[\"main.ids\"] == \"Cancer cells\"]"
   ]
  },
  {
   "cell_type": "code",
   "execution_count": null,
   "id": "a20aba40",
   "metadata": {},
   "outputs": [
    {
     "name": "stderr",
     "output_type": "stream",
     "text": [
      "value_counts defaulting to pandas implementation.\n",
      "2021-08-25 11:16:37,863\tINFO services.py:1263 -- View the Ray dashboard at \u001b[1m\u001b[32mhttp://127.0.0.1:8265\u001b[39m\u001b[22m\n"
     ]
    }
   ],
   "source": [
    "df_2mnd_cancer.patient_number.value_counts()"
   ]
  },
  {
   "cell_type": "code",
   "execution_count": 27,
   "id": "d2cfbac9",
   "metadata": {},
   "outputs": [],
   "source": [
    "df_2mnd_cancer.to_pickle(\"/data/severs/new_data/Cancer_2mnd.pkl\")"
   ]
  },
  {
   "cell_type": "code",
   "execution_count": 28,
   "id": "00dc00aa",
   "metadata": {},
   "outputs": [],
   "source": [
    "df_4mnd_cancer.to_pickle(\"/data/severs/new_data/Cancer_4mnd.pkl\")"
   ]
  },
  {
   "cell_type": "code",
   "execution_count": 25,
   "id": "74fd0998",
   "metadata": {},
   "outputs": [
    {
     "name": "stderr",
     "output_type": "stream",
     "text": [
      "`DataFrame.to_pickle` defaulting to pandas implementation.\n",
      "Distributing <class 'pandas.core.frame.DataFrame'> object. This may take some time.\n"
     ]
    }
   ],
   "source": [
    "df_base_cancer.to_pickle(\"/data/severs/new_data/Cancer_baseline.pkl\")"
   ]
  },
  {
   "cell_type": "code",
   "execution_count": 26,
   "id": "65375abe",
   "metadata": {},
   "outputs": [],
   "source": [
    "cancer_df = df.loc[df['main.ids'] == 'Cancer cells']"
   ]
  },
  {
   "cell_type": "code",
   "execution_count": 27,
   "id": "c3f9a2b9",
   "metadata": {},
   "outputs": [
    {
     "data": {
      "text/html": [
       "<div>\n",
       "<style scoped>\n",
       "    .dataframe tbody tr th:only-of-type {\n",
       "        vertical-align: middle;\n",
       "    }\n",
       "\n",
       "    .dataframe tbody tr th {\n",
       "        vertical-align: top;\n",
       "    }\n",
       "\n",
       "    .dataframe thead th {\n",
       "        text-align: right;\n",
       "    }\n",
       "</style>\n",
       "<table border=\"1\" class=\"dataframe\">\n",
       "  <thead>\n",
       "    <tr style=\"text-align: right;\">\n",
       "      <th></th>\n",
       "      <th>0</th>\n",
       "      <th>1</th>\n",
       "      <th>2</th>\n",
       "      <th>3</th>\n",
       "      <th>4</th>\n",
       "      <th>5</th>\n",
       "      <th>6</th>\n",
       "      <th>7</th>\n",
       "      <th>8</th>\n",
       "      <th>9</th>\n",
       "      <th>...</th>\n",
       "      <th>BCR_caten</th>\n",
       "      <th>Condition</th>\n",
       "      <th>Time_point</th>\n",
       "      <th>Trial</th>\n",
       "      <th>patient_number</th>\n",
       "      <th>RNA_snn_res.0.8</th>\n",
       "      <th>seurat_clusters</th>\n",
       "      <th>RNA_snn_res.1</th>\n",
       "      <th>RNA_snn_res.1.2</th>\n",
       "      <th>main.ids</th>\n",
       "    </tr>\n",
       "  </thead>\n",
       "  <tbody>\n",
       "    <tr>\n",
       "      <th>NL67A_AAACCTGCACTGTTAG-1</th>\n",
       "      <td>-0.003800</td>\n",
       "      <td>0.0</td>\n",
       "      <td>-0.028163</td>\n",
       "      <td>-0.048774</td>\n",
       "      <td>0.0</td>\n",
       "      <td>-0.185302</td>\n",
       "      <td>-0.045739</td>\n",
       "      <td>-0.329466</td>\n",
       "      <td>-0.212353</td>\n",
       "      <td>-0.043305</td>\n",
       "      <td>...</td>\n",
       "      <td>NA</td>\n",
       "      <td>Tumor</td>\n",
       "      <td>Baseline</td>\n",
       "      <td>NeoLetExe</td>\n",
       "      <td>67</td>\n",
       "      <td>6</td>\n",
       "      <td>4</td>\n",
       "      <td>5</td>\n",
       "      <td>4</td>\n",
       "      <td>Cancer cells</td>\n",
       "    </tr>\n",
       "    <tr>\n",
       "      <th>NL67A_AAACCTGCATAAAGGT-1</th>\n",
       "      <td>-0.009624</td>\n",
       "      <td>0.0</td>\n",
       "      <td>-0.048950</td>\n",
       "      <td>-0.008252</td>\n",
       "      <td>0.0</td>\n",
       "      <td>-0.077640</td>\n",
       "      <td>0.010190</td>\n",
       "      <td>-0.110326</td>\n",
       "      <td>-0.089886</td>\n",
       "      <td>-0.013749</td>\n",
       "      <td>...</td>\n",
       "      <td>NA</td>\n",
       "      <td>Tumor</td>\n",
       "      <td>Baseline</td>\n",
       "      <td>NeoLetExe</td>\n",
       "      <td>67</td>\n",
       "      <td>11</td>\n",
       "      <td>10</td>\n",
       "      <td>12</td>\n",
       "      <td>10</td>\n",
       "      <td>Cancer cells</td>\n",
       "    </tr>\n",
       "    <tr>\n",
       "      <th>NL67A_AAACGGGAGATCTGAA-1</th>\n",
       "      <td>-0.023499</td>\n",
       "      <td>0.0</td>\n",
       "      <td>-0.037598</td>\n",
       "      <td>-0.018245</td>\n",
       "      <td>0.0</td>\n",
       "      <td>-0.075968</td>\n",
       "      <td>-0.001593</td>\n",
       "      <td>-0.111781</td>\n",
       "      <td>-0.056672</td>\n",
       "      <td>-0.029224</td>\n",
       "      <td>...</td>\n",
       "      <td>NA</td>\n",
       "      <td>Tumor</td>\n",
       "      <td>Baseline</td>\n",
       "      <td>NeoLetExe</td>\n",
       "      <td>67</td>\n",
       "      <td>0</td>\n",
       "      <td>0</td>\n",
       "      <td>0</td>\n",
       "      <td>0</td>\n",
       "      <td>Cancer cells</td>\n",
       "    </tr>\n",
       "    <tr>\n",
       "      <th>NL67A_AAACGGGAGGGCACTA-1</th>\n",
       "      <td>-0.021205</td>\n",
       "      <td>0.0</td>\n",
       "      <td>-0.038602</td>\n",
       "      <td>-0.018073</td>\n",
       "      <td>0.0</td>\n",
       "      <td>-0.079083</td>\n",
       "      <td>-0.001356</td>\n",
       "      <td>-0.117545</td>\n",
       "      <td>-0.064944</td>\n",
       "      <td>-0.027675</td>\n",
       "      <td>...</td>\n",
       "      <td>NA</td>\n",
       "      <td>Tumor</td>\n",
       "      <td>Baseline</td>\n",
       "      <td>NeoLetExe</td>\n",
       "      <td>67</td>\n",
       "      <td>0</td>\n",
       "      <td>0</td>\n",
       "      <td>0</td>\n",
       "      <td>0</td>\n",
       "      <td>Cancer cells</td>\n",
       "    </tr>\n",
       "    <tr>\n",
       "      <th>NL67A_AAACGGGGTGTTTGGT-1</th>\n",
       "      <td>-0.006725</td>\n",
       "      <td>0.0</td>\n",
       "      <td>-0.039103</td>\n",
       "      <td>-0.034254</td>\n",
       "      <td>0.0</td>\n",
       "      <td>-0.245807</td>\n",
       "      <td>-0.069205</td>\n",
       "      <td>-0.430010</td>\n",
       "      <td>-0.281275</td>\n",
       "      <td>-0.059379</td>\n",
       "      <td>...</td>\n",
       "      <td>NA</td>\n",
       "      <td>Tumor</td>\n",
       "      <td>Baseline</td>\n",
       "      <td>NeoLetExe</td>\n",
       "      <td>67</td>\n",
       "      <td>19</td>\n",
       "      <td>20</td>\n",
       "      <td>21</td>\n",
       "      <td>20</td>\n",
       "      <td>Cancer cells</td>\n",
       "    </tr>\n",
       "  </tbody>\n",
       "</table>\n",
       "<p>5 rows x 33588 columns</p>\n",
       "</div>"
      ],
      "text/plain": [
       "                                 0    1         2         3    4         5  \\\n",
       "NL67A_AAACCTGCACTGTTAG-1 -0.003800  0.0 -0.028163 -0.048774  0.0 -0.185302   \n",
       "NL67A_AAACCTGCATAAAGGT-1 -0.009624  0.0 -0.048950 -0.008252  0.0 -0.077640   \n",
       "NL67A_AAACGGGAGATCTGAA-1 -0.023499  0.0 -0.037598 -0.018245  0.0 -0.075968   \n",
       "NL67A_AAACGGGAGGGCACTA-1 -0.021205  0.0 -0.038602 -0.018073  0.0 -0.079083   \n",
       "NL67A_AAACGGGGTGTTTGGT-1 -0.006725  0.0 -0.039103 -0.034254  0.0 -0.245807   \n",
       "\n",
       "                                 6         7         8         9  ...  \\\n",
       "NL67A_AAACCTGCACTGTTAG-1 -0.045739 -0.329466 -0.212353 -0.043305  ...   \n",
       "NL67A_AAACCTGCATAAAGGT-1  0.010190 -0.110326 -0.089886 -0.013749  ...   \n",
       "NL67A_AAACGGGAGATCTGAA-1 -0.001593 -0.111781 -0.056672 -0.029224  ...   \n",
       "NL67A_AAACGGGAGGGCACTA-1 -0.001356 -0.117545 -0.064944 -0.027675  ...   \n",
       "NL67A_AAACGGGGTGTTTGGT-1 -0.069205 -0.430010 -0.281275 -0.059379  ...   \n",
       "\n",
       "                          BCR_caten Condition Time_point      Trial  \\\n",
       "NL67A_AAACCTGCACTGTTAG-1         NA     Tumor   Baseline  NeoLetExe   \n",
       "NL67A_AAACCTGCATAAAGGT-1         NA     Tumor   Baseline  NeoLetExe   \n",
       "NL67A_AAACGGGAGATCTGAA-1         NA     Tumor   Baseline  NeoLetExe   \n",
       "NL67A_AAACGGGAGGGCACTA-1         NA     Tumor   Baseline  NeoLetExe   \n",
       "NL67A_AAACGGGGTGTTTGGT-1         NA     Tumor   Baseline  NeoLetExe   \n",
       "\n",
       "                         patient_number RNA_snn_res.0.8 seurat_clusters  \\\n",
       "NL67A_AAACCTGCACTGTTAG-1             67               6               4   \n",
       "NL67A_AAACCTGCATAAAGGT-1             67              11              10   \n",
       "NL67A_AAACGGGAGATCTGAA-1             67               0               0   \n",
       "NL67A_AAACGGGAGGGCACTA-1             67               0               0   \n",
       "NL67A_AAACGGGGTGTTTGGT-1             67              19              20   \n",
       "\n",
       "                         RNA_snn_res.1 RNA_snn_res.1.2      main.ids  \n",
       "NL67A_AAACCTGCACTGTTAG-1             5               4  Cancer cells  \n",
       "NL67A_AAACCTGCATAAAGGT-1            12              10  Cancer cells  \n",
       "NL67A_AAACGGGAGATCTGAA-1             0               0  Cancer cells  \n",
       "NL67A_AAACGGGAGGGCACTA-1             0               0  Cancer cells  \n",
       "NL67A_AAACGGGGTGTTTGGT-1            21              20  Cancer cells  \n",
       "\n",
       "[5 rows x 33588 columns]"
      ]
     },
     "execution_count": 27,
     "metadata": {},
     "output_type": "execute_result"
    }
   ],
   "source": [
    "cancer_df.patient_num"
   ]
  }
 ],
 "metadata": {
  "kernelspec": {
   "display_name": "Python 3",
   "language": "python",
   "name": "python3"
  },
  "language_info": {
   "codemirror_mode": {
    "name": "ipython",
    "version": 3
   },
   "file_extension": ".py",
   "mimetype": "text/x-python",
   "name": "python",
   "nbconvert_exporter": "python",
   "pygments_lexer": "ipython3",
   "version": "3.9.6"
  }
 },
 "nbformat": 4,
 "nbformat_minor": 5
}
