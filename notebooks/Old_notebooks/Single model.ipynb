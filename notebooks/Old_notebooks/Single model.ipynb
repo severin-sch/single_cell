{
 "cells": [
  {
   "cell_type": "markdown",
   "id": "0bc47ecf",
   "metadata": {},
   "source": [
    "# Single example of XGBoost on first dataset"
   ]
  },
  {
   "cell_type": "code",
   "execution_count": 1,
   "id": "fb34b920",
   "metadata": {},
   "outputs": [],
   "source": [
    "import pickle\n",
    "import pandas as pd\n",
    "import numpy as np\n",
    "import matplotlib.pyplot as plt\n",
    "import seaborn as sns"
   ]
  },
  {
   "cell_type": "code",
   "execution_count": 2,
   "id": "2233c67d",
   "metadata": {},
   "outputs": [],
   "source": [
    "%load_ext autoreload\n",
    "%autoreload 2"
   ]
  },
  {
   "cell_type": "code",
   "execution_count": null,
   "id": "e95fe228",
   "metadata": {},
   "outputs": [],
   "source": [
    "def sort_inputs_by_pvalue(X, y, p=0.01):\n",
    "    pvalues, correlations = compute_p_value(X, y)\n",
    "    df = pd.DataFrame()\n",
    "    df[\"Correlation\"] = correlations\n",
    "    df[\"pvalues\"] = pvalues\n",
    "    df.index = X.columns\n",
    "    inputs = list(df.index[(df[\"pvalues\"]<p)]) + list(X.columns[-14:])\n",
    "    inputs = list(set(inputs))\n",
    "    print(\"n inputs \", len(inputs))\n",
    "    return df"
   ]
  }
 ],
 "metadata": {
  "kernelspec": {
   "display_name": "Python 3",
   "language": "python",
   "name": "python3"
  },
  "language_info": {
   "codemirror_mode": {
    "name": "ipython",
    "version": 3
   },
   "file_extension": ".py",
   "mimetype": "text/x-python",
   "name": "python",
   "nbconvert_exporter": "python",
   "pygments_lexer": "ipython3",
   "version": "3.9.6"
  }
 },
 "nbformat": 4,
 "nbformat_minor": 5
}
