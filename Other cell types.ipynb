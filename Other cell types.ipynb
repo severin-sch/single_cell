{
 "cells": [
  {
   "cell_type": "markdown",
   "id": "9f81ef73",
   "metadata": {},
   "source": [
    "# Exploration of other cell types than cancer"
   ]
  },
  {
   "cell_type": "code",
   "execution_count": 32,
   "id": "cd8687c5",
   "metadata": {},
   "outputs": [],
   "source": [
    "import pandas as pd\n",
    "import pickle"
   ]
  },
  {
   "cell_type": "code",
   "execution_count": 62,
   "id": "3a57b55b",
   "metadata": {},
   "outputs": [],
   "source": [
    "df = pd.read_pickle(\"/data/severs/rna_full.pkl\")"
   ]
  },
  {
   "cell_type": "code",
   "execution_count": 69,
   "id": "6517e212",
   "metadata": {},
   "outputs": [
    {
     "data": {
      "text/plain": [
       "Genes\n",
       "RP11-34P13.3    38664\n",
       "RP11-34P13.7     1465\n",
       "RP11-34P13.8    31291\n",
       "FO538757.3       3691\n",
       "FO538757.2          0\n",
       "                ...  \n",
       "AC023491.2      42305\n",
       "AC004556.1       9377\n",
       "AC233755.2      10218\n",
       "AC233755.1       5118\n",
       "AC240274.1          0\n",
       "Length: 28635, dtype: int64"
      ]
     },
     "execution_count": 69,
     "metadata": {},
     "output_type": "execute_result"
    }
   ],
   "source": [
    "df.isna().sum()"
   ]
  },
  {
   "cell_type": "code",
   "execution_count": 33,
   "id": "a6167ed0",
   "metadata": {},
   "outputs": [],
   "source": [
    "with open('/data/severs/high_q_cell_names.pkl', 'rb') as handle:\n",
    "    high_quality_cells = pickle.load(handle)"
   ]
  },
  {
   "cell_type": "code",
   "execution_count": 35,
   "id": "73f9c6ea",
   "metadata": {},
   "outputs": [
    {
     "data": {
      "text/plain": [
       "dict_keys(['B_cell', 'EC', 'Myeloid', 'Cancer', 'Fibroblast', 'T_cell', 'DC', 'Mast'])"
      ]
     },
     "execution_count": 35,
     "metadata": {},
     "output_type": "execute_result"
    }
   ],
   "source": [
    "high_quality_cells.keys()"
   ]
  },
  {
   "cell_type": "code",
   "execution_count": 56,
   "id": "63149c24",
   "metadata": {},
   "outputs": [],
   "source": [
    "def produce_dataset(df, cellname):\n",
    "    df_cell = df.loc[high_quality_cells[cellname]]\n",
    "    filename = \"/data/severs/reduced_data_sets/\" + cellname + \".pkl\"\n",
    "    df_cell[criteria(df_cell)].to_pickle(filename)\n",
    "    return df_cell"
   ]
  },
  {
   "cell_type": "code",
   "execution_count": 59,
   "id": "cff6f991",
   "metadata": {},
   "outputs": [
    {
     "name": "stdout",
     "output_type": "stream",
     "text": [
      "B_cell\n",
      "EC\n",
      "Myeloid\n",
      "Cancer\n",
      "Fibroblast\n",
      "T_cell\n",
      "DC\n",
      "Mast\n"
     ]
    }
   ],
   "source": [
    "for key in high_quality_cells.keys():\n",
    "    produce_dataset(df, cellname)"
   ]
  },
  {
   "cell_type": "code",
   "execution_count": 51,
   "id": "f9d7fd74",
   "metadata": {},
   "outputs": [],
   "source": [
    "def criteria(df):\n",
    "    criteria = df.isnull().sum()<df.shape[0]*0.2\n",
    "    return criteria.index[criteria]"
   ]
  }
 ],
 "metadata": {
  "kernelspec": {
   "display_name": "Python 3",
   "language": "python",
   "name": "python3"
  },
  "language_info": {
   "codemirror_mode": {
    "name": "ipython",
    "version": 3
   },
   "file_extension": ".py",
   "mimetype": "text/x-python",
   "name": "python",
   "nbconvert_exporter": "python",
   "pygments_lexer": "ipython3",
   "version": "3.9.5"
  }
 },
 "nbformat": 4,
 "nbformat_minor": 5
}
